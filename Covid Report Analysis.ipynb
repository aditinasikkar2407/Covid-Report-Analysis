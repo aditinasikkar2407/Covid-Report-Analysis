{
 "cells": [
  {
   "cell_type": "code",
   "execution_count": 19,
   "metadata": {
    "executionInfo": {
     "elapsed": 929,
     "status": "ok",
     "timestamp": 1635418382703,
     "user": {
      "displayName": "Aditi Nasikkar",
      "photoUrl": "https://lh3.googleusercontent.com/a/default-user=s64",
      "userId": "09436550367466515003"
     },
     "user_tz": -330
    },
    "id": "ArW30nMrh8cv"
   },
   "outputs": [],
   "source": [
    "import pandas as pd\n",
    "import numpy as np\n",
    "import matplotlib.pyplot as plt\n",
    "import seaborn as sns\n",
    "import os\n",
    "%matplotlib inline"
   ]
  },
  {
   "cell_type": "code",
   "execution_count": 20,
   "metadata": {
    "executionInfo": {
     "elapsed": 443,
     "status": "ok",
     "timestamp": 1635418446799,
     "user": {
      "displayName": "Aditi Nasikkar",
      "photoUrl": "https://lh3.googleusercontent.com/a/default-user=s64",
      "userId": "09436550367466515003"
     },
     "user_tz": -330
    },
    "id": "j6LXLGvJiCXx"
   },
   "outputs": [],
   "source": [
    "covid = pd.read_csv('C:\\\\Users\\\\Admin\\\\Desktop\\\\lyriclious codes\\\\data science\\\\covidreports.csv')"
   ]
  },
  {
   "cell_type": "code",
   "execution_count": 21,
   "metadata": {
    "colab": {
     "base_uri": "https://localhost:8080/",
     "height": 221
    },
    "executionInfo": {
     "elapsed": 523,
     "status": "ok",
     "timestamp": 1635418475685,
     "user": {
      "displayName": "Aditi Nasikkar",
      "photoUrl": "https://lh3.googleusercontent.com/a/default-user=s64",
      "userId": "09436550367466515003"
     },
     "user_tz": -330
    },
    "id": "syg87XgfiSvS",
    "outputId": "ba49db8d-8b2c-4fec-8344-5baba6f30d8a"
   },
   "outputs": [
    {
     "data": {
      "text/html": [
       "<div>\n",
       "<style scoped>\n",
       "    .dataframe tbody tr th:only-of-type {\n",
       "        vertical-align: middle;\n",
       "    }\n",
       "\n",
       "    .dataframe tbody tr th {\n",
       "        vertical-align: top;\n",
       "    }\n",
       "\n",
       "    .dataframe thead th {\n",
       "        text-align: right;\n",
       "    }\n",
       "</style>\n",
       "<table border=\"1\" class=\"dataframe\">\n",
       "  <thead>\n",
       "    <tr style=\"text-align: right;\">\n",
       "      <th></th>\n",
       "      <th>Country</th>\n",
       "      <th>Age</th>\n",
       "      <th>Gender</th>\n",
       "      <th>fever</th>\n",
       "      <th>Bodypain</th>\n",
       "      <th>Runny_nose</th>\n",
       "      <th>Difficulty_in_breathing</th>\n",
       "      <th>Nasal_congestion</th>\n",
       "      <th>Sore_throat</th>\n",
       "      <th>Severity</th>\n",
       "      <th>Contact_with_covid_patient</th>\n",
       "      <th>Infected</th>\n",
       "    </tr>\n",
       "  </thead>\n",
       "  <tbody>\n",
       "    <tr>\n",
       "      <th>0</th>\n",
       "      <td>China</td>\n",
       "      <td>10</td>\n",
       "      <td>Male</td>\n",
       "      <td>102</td>\n",
       "      <td>1</td>\n",
       "      <td>0</td>\n",
       "      <td>0</td>\n",
       "      <td>0</td>\n",
       "      <td>1</td>\n",
       "      <td>Mild</td>\n",
       "      <td>No</td>\n",
       "      <td>0</td>\n",
       "    </tr>\n",
       "    <tr>\n",
       "      <th>1</th>\n",
       "      <td>Italy</td>\n",
       "      <td>20</td>\n",
       "      <td>Male</td>\n",
       "      <td>103</td>\n",
       "      <td>1</td>\n",
       "      <td>1</td>\n",
       "      <td>0</td>\n",
       "      <td>0</td>\n",
       "      <td>0</td>\n",
       "      <td>Moderate</td>\n",
       "      <td>Not known</td>\n",
       "      <td>1</td>\n",
       "    </tr>\n",
       "    <tr>\n",
       "      <th>2</th>\n",
       "      <td>Iran</td>\n",
       "      <td>55</td>\n",
       "      <td>Transgender</td>\n",
       "      <td>99</td>\n",
       "      <td>0</td>\n",
       "      <td>0</td>\n",
       "      <td>0</td>\n",
       "      <td>1</td>\n",
       "      <td>1</td>\n",
       "      <td>Severe</td>\n",
       "      <td>No</td>\n",
       "      <td>0</td>\n",
       "    </tr>\n",
       "    <tr>\n",
       "      <th>3</th>\n",
       "      <td>Republic of Korean</td>\n",
       "      <td>37</td>\n",
       "      <td>Female</td>\n",
       "      <td>100</td>\n",
       "      <td>0</td>\n",
       "      <td>1</td>\n",
       "      <td>1</td>\n",
       "      <td>0</td>\n",
       "      <td>0</td>\n",
       "      <td>Mild</td>\n",
       "      <td>Yes</td>\n",
       "      <td>1</td>\n",
       "    </tr>\n",
       "    <tr>\n",
       "      <th>4</th>\n",
       "      <td>France</td>\n",
       "      <td>45</td>\n",
       "      <td>Male</td>\n",
       "      <td>101</td>\n",
       "      <td>1</td>\n",
       "      <td>1</td>\n",
       "      <td>1</td>\n",
       "      <td>1</td>\n",
       "      <td>0</td>\n",
       "      <td>Moderate</td>\n",
       "      <td>Yes</td>\n",
       "      <td>1</td>\n",
       "    </tr>\n",
       "  </tbody>\n",
       "</table>\n",
       "</div>"
      ],
      "text/plain": [
       "              Country  Age       Gender  fever  Bodypain  Runny_nose  \\\n",
       "0               China   10         Male    102         1           0   \n",
       "1               Italy   20         Male    103         1           1   \n",
       "2                Iran   55  Transgender     99         0           0   \n",
       "3  Republic of Korean   37       Female    100         0           1   \n",
       "4              France   45         Male    101         1           1   \n",
       "\n",
       "   Difficulty_in_breathing  Nasal_congestion  Sore_throat  Severity  \\\n",
       "0                        0                 0            1      Mild   \n",
       "1                        0                 0            0  Moderate   \n",
       "2                        0                 1            1    Severe   \n",
       "3                        1                 0            0      Mild   \n",
       "4                        1                 1            0  Moderate   \n",
       "\n",
       "  Contact_with_covid_patient  Infected  \n",
       "0                         No         0  \n",
       "1                  Not known         1  \n",
       "2                         No         0  \n",
       "3                        Yes         1  \n",
       "4                        Yes         1  "
      ]
     },
     "execution_count": 21,
     "metadata": {},
     "output_type": "execute_result"
    }
   ],
   "source": [
    "covid.head()"
   ]
  },
  {
   "cell_type": "code",
   "execution_count": 22,
   "metadata": {
    "colab": {
     "base_uri": "https://localhost:8080/"
    },
    "executionInfo": {
     "elapsed": 520,
     "status": "ok",
     "timestamp": 1635418505376,
     "user": {
      "displayName": "Aditi Nasikkar",
      "photoUrl": "https://lh3.googleusercontent.com/a/default-user=s64",
      "userId": "09436550367466515003"
     },
     "user_tz": -330
    },
    "id": "gPPmvPu9ieCj",
    "outputId": "c779eede-65d1-4ab8-a4cd-66cedcb0368a"
   },
   "outputs": [
    {
     "data": {
      "text/plain": [
       "(2499, 12)"
      ]
     },
     "execution_count": 22,
     "metadata": {},
     "output_type": "execute_result"
    }
   ],
   "source": [
    "covid.shape"
   ]
  },
  {
   "cell_type": "code",
   "execution_count": 23,
   "metadata": {
    "colab": {
     "base_uri": "https://localhost:8080/"
    },
    "executionInfo": {
     "elapsed": 416,
     "status": "ok",
     "timestamp": 1635421323172,
     "user": {
      "displayName": "Aditi Nasikkar",
      "photoUrl": "https://lh3.googleusercontent.com/a/default-user=s64",
      "userId": "09436550367466515003"
     },
     "user_tz": -330
    },
    "id": "oOt50restNZz",
    "outputId": "f946d564-8798-4b7c-959e-28dd3300590d"
   },
   "outputs": [
    {
     "data": {
      "text/plain": [
       "Country                       object\n",
       "Age                            int64\n",
       "Gender                        object\n",
       "fever                          int64\n",
       "Bodypain                       int64\n",
       "Runny_nose                     int64\n",
       "Difficulty_in_breathing        int64\n",
       "Nasal_congestion               int64\n",
       "Sore_throat                    int64\n",
       "Severity                      object\n",
       "Contact_with_covid_patient    object\n",
       "Infected                       int64\n",
       "dtype: object"
      ]
     },
     "execution_count": 23,
     "metadata": {},
     "output_type": "execute_result"
    }
   ],
   "source": [
    "covid.dtypes"
   ]
  },
  {
   "cell_type": "code",
   "execution_count": 24,
   "metadata": {
    "colab": {
     "base_uri": "https://localhost:8080/",
     "height": 419
    },
    "executionInfo": {
     "elapsed": 632,
     "status": "ok",
     "timestamp": 1635418534975,
     "user": {
      "displayName": "Aditi Nasikkar",
      "photoUrl": "https://lh3.googleusercontent.com/a/default-user=s64",
      "userId": "09436550367466515003"
     },
     "user_tz": -330
    },
    "id": "9GS9Iai_ihDQ",
    "outputId": "102a342b-6aad-42ad-aeee-dd2599045c93"
   },
   "outputs": [
    {
     "data": {
      "text/html": [
       "<div>\n",
       "<style scoped>\n",
       "    .dataframe tbody tr th:only-of-type {\n",
       "        vertical-align: middle;\n",
       "    }\n",
       "\n",
       "    .dataframe tbody tr th {\n",
       "        vertical-align: top;\n",
       "    }\n",
       "\n",
       "    .dataframe thead th {\n",
       "        text-align: right;\n",
       "    }\n",
       "</style>\n",
       "<table border=\"1\" class=\"dataframe\">\n",
       "  <thead>\n",
       "    <tr style=\"text-align: right;\">\n",
       "      <th></th>\n",
       "      <th>Country</th>\n",
       "      <th>Age</th>\n",
       "      <th>Gender</th>\n",
       "      <th>fever</th>\n",
       "      <th>Bodypain</th>\n",
       "      <th>Runny_nose</th>\n",
       "      <th>Difficulty_in_breathing</th>\n",
       "      <th>Nasal_congestion</th>\n",
       "      <th>Sore_throat</th>\n",
       "      <th>Severity</th>\n",
       "      <th>Contact_with_covid_patient</th>\n",
       "      <th>Infected</th>\n",
       "    </tr>\n",
       "  </thead>\n",
       "  <tbody>\n",
       "    <tr>\n",
       "      <th>0</th>\n",
       "      <td>False</td>\n",
       "      <td>False</td>\n",
       "      <td>False</td>\n",
       "      <td>False</td>\n",
       "      <td>False</td>\n",
       "      <td>False</td>\n",
       "      <td>False</td>\n",
       "      <td>False</td>\n",
       "      <td>False</td>\n",
       "      <td>False</td>\n",
       "      <td>False</td>\n",
       "      <td>False</td>\n",
       "    </tr>\n",
       "    <tr>\n",
       "      <th>1</th>\n",
       "      <td>False</td>\n",
       "      <td>False</td>\n",
       "      <td>False</td>\n",
       "      <td>False</td>\n",
       "      <td>False</td>\n",
       "      <td>False</td>\n",
       "      <td>False</td>\n",
       "      <td>False</td>\n",
       "      <td>False</td>\n",
       "      <td>False</td>\n",
       "      <td>False</td>\n",
       "      <td>False</td>\n",
       "    </tr>\n",
       "    <tr>\n",
       "      <th>2</th>\n",
       "      <td>False</td>\n",
       "      <td>False</td>\n",
       "      <td>False</td>\n",
       "      <td>False</td>\n",
       "      <td>False</td>\n",
       "      <td>False</td>\n",
       "      <td>False</td>\n",
       "      <td>False</td>\n",
       "      <td>False</td>\n",
       "      <td>False</td>\n",
       "      <td>False</td>\n",
       "      <td>False</td>\n",
       "    </tr>\n",
       "    <tr>\n",
       "      <th>3</th>\n",
       "      <td>False</td>\n",
       "      <td>False</td>\n",
       "      <td>False</td>\n",
       "      <td>False</td>\n",
       "      <td>False</td>\n",
       "      <td>False</td>\n",
       "      <td>False</td>\n",
       "      <td>False</td>\n",
       "      <td>False</td>\n",
       "      <td>False</td>\n",
       "      <td>False</td>\n",
       "      <td>False</td>\n",
       "    </tr>\n",
       "    <tr>\n",
       "      <th>4</th>\n",
       "      <td>False</td>\n",
       "      <td>False</td>\n",
       "      <td>False</td>\n",
       "      <td>False</td>\n",
       "      <td>False</td>\n",
       "      <td>False</td>\n",
       "      <td>False</td>\n",
       "      <td>False</td>\n",
       "      <td>False</td>\n",
       "      <td>False</td>\n",
       "      <td>False</td>\n",
       "      <td>False</td>\n",
       "    </tr>\n",
       "    <tr>\n",
       "      <th>...</th>\n",
       "      <td>...</td>\n",
       "      <td>...</td>\n",
       "      <td>...</td>\n",
       "      <td>...</td>\n",
       "      <td>...</td>\n",
       "      <td>...</td>\n",
       "      <td>...</td>\n",
       "      <td>...</td>\n",
       "      <td>...</td>\n",
       "      <td>...</td>\n",
       "      <td>...</td>\n",
       "      <td>...</td>\n",
       "    </tr>\n",
       "    <tr>\n",
       "      <th>2494</th>\n",
       "      <td>False</td>\n",
       "      <td>False</td>\n",
       "      <td>False</td>\n",
       "      <td>False</td>\n",
       "      <td>False</td>\n",
       "      <td>False</td>\n",
       "      <td>False</td>\n",
       "      <td>False</td>\n",
       "      <td>False</td>\n",
       "      <td>False</td>\n",
       "      <td>False</td>\n",
       "      <td>False</td>\n",
       "    </tr>\n",
       "    <tr>\n",
       "      <th>2495</th>\n",
       "      <td>False</td>\n",
       "      <td>False</td>\n",
       "      <td>False</td>\n",
       "      <td>False</td>\n",
       "      <td>False</td>\n",
       "      <td>False</td>\n",
       "      <td>False</td>\n",
       "      <td>False</td>\n",
       "      <td>False</td>\n",
       "      <td>False</td>\n",
       "      <td>False</td>\n",
       "      <td>False</td>\n",
       "    </tr>\n",
       "    <tr>\n",
       "      <th>2496</th>\n",
       "      <td>False</td>\n",
       "      <td>False</td>\n",
       "      <td>False</td>\n",
       "      <td>False</td>\n",
       "      <td>False</td>\n",
       "      <td>False</td>\n",
       "      <td>False</td>\n",
       "      <td>False</td>\n",
       "      <td>False</td>\n",
       "      <td>False</td>\n",
       "      <td>False</td>\n",
       "      <td>False</td>\n",
       "    </tr>\n",
       "    <tr>\n",
       "      <th>2497</th>\n",
       "      <td>False</td>\n",
       "      <td>False</td>\n",
       "      <td>False</td>\n",
       "      <td>False</td>\n",
       "      <td>False</td>\n",
       "      <td>False</td>\n",
       "      <td>False</td>\n",
       "      <td>False</td>\n",
       "      <td>False</td>\n",
       "      <td>False</td>\n",
       "      <td>False</td>\n",
       "      <td>False</td>\n",
       "    </tr>\n",
       "    <tr>\n",
       "      <th>2498</th>\n",
       "      <td>False</td>\n",
       "      <td>False</td>\n",
       "      <td>False</td>\n",
       "      <td>False</td>\n",
       "      <td>False</td>\n",
       "      <td>False</td>\n",
       "      <td>False</td>\n",
       "      <td>False</td>\n",
       "      <td>False</td>\n",
       "      <td>False</td>\n",
       "      <td>False</td>\n",
       "      <td>False</td>\n",
       "    </tr>\n",
       "  </tbody>\n",
       "</table>\n",
       "<p>2499 rows × 12 columns</p>\n",
       "</div>"
      ],
      "text/plain": [
       "      Country    Age  Gender  fever  Bodypain  Runny_nose  \\\n",
       "0       False  False   False  False     False       False   \n",
       "1       False  False   False  False     False       False   \n",
       "2       False  False   False  False     False       False   \n",
       "3       False  False   False  False     False       False   \n",
       "4       False  False   False  False     False       False   \n",
       "...       ...    ...     ...    ...       ...         ...   \n",
       "2494    False  False   False  False     False       False   \n",
       "2495    False  False   False  False     False       False   \n",
       "2496    False  False   False  False     False       False   \n",
       "2497    False  False   False  False     False       False   \n",
       "2498    False  False   False  False     False       False   \n",
       "\n",
       "      Difficulty_in_breathing  Nasal_congestion  Sore_throat  Severity  \\\n",
       "0                       False             False        False     False   \n",
       "1                       False             False        False     False   \n",
       "2                       False             False        False     False   \n",
       "3                       False             False        False     False   \n",
       "4                       False             False        False     False   \n",
       "...                       ...               ...          ...       ...   \n",
       "2494                    False             False        False     False   \n",
       "2495                    False             False        False     False   \n",
       "2496                    False             False        False     False   \n",
       "2497                    False             False        False     False   \n",
       "2498                    False             False        False     False   \n",
       "\n",
       "      Contact_with_covid_patient  Infected  \n",
       "0                          False     False  \n",
       "1                          False     False  \n",
       "2                          False     False  \n",
       "3                          False     False  \n",
       "4                          False     False  \n",
       "...                          ...       ...  \n",
       "2494                       False     False  \n",
       "2495                       False     False  \n",
       "2496                       False     False  \n",
       "2497                       False     False  \n",
       "2498                       False     False  \n",
       "\n",
       "[2499 rows x 12 columns]"
      ]
     },
     "execution_count": 24,
     "metadata": {},
     "output_type": "execute_result"
    }
   ],
   "source": [
    "covid.isnull()"
   ]
  },
  {
   "cell_type": "code",
   "execution_count": 25,
   "metadata": {
    "colab": {
     "base_uri": "https://localhost:8080/",
     "height": 409
    },
    "executionInfo": {
     "elapsed": 650,
     "status": "ok",
     "timestamp": 1635418590661,
     "user": {
      "displayName": "Aditi Nasikkar",
      "photoUrl": "https://lh3.googleusercontent.com/a/default-user=s64",
      "userId": "09436550367466515003"
     },
     "user_tz": -330
    },
    "id": "KaSH_NZeitrO",
    "outputId": "63a036e2-ca1b-485d-e8b9-b300b1d8d875"
   },
   "outputs": [
    {
     "data": {
      "text/plain": [
       "<matplotlib.axes._subplots.AxesSubplot at 0x1d85bbc9988>"
      ]
     },
     "execution_count": 25,
     "metadata": {},
     "output_type": "execute_result"
    },
    {
     "data": {
      "image/png": "[encoded data removed]",
      "text/plain": [
       "<Figure size 432x288 with 1 Axes>"
      ]
     },
     "metadata": {
      "needs_background": "light"
     },
     "output_type": "display_data"
    }
   ],
   "source": [
    "#shows no null values are present\n",
    "sns.heatmap(covid.isnull(),yticklabels=False,cbar=False,cmap='viridis')"
   ]
  },
  {
   "cell_type": "code",
   "execution_count": 26,
   "metadata": {
    "colab": {
     "base_uri": "https://localhost:8080/",
     "height": 296
    },
    "executionInfo": {
     "elapsed": 498,
     "status": "ok",
     "timestamp": 1635418729133,
     "user": {
      "displayName": "Aditi Nasikkar",
      "photoUrl": "https://lh3.googleusercontent.com/a/default-user=s64",
      "userId": "09436550367466515003"
     },
     "user_tz": -330
    },
    "id": "xi5cOw9SjFGz",
    "outputId": "2c8362aa-e34d-4798-c8f7-de1243d1dcf5"
   },
   "outputs": [
    {
     "data": {
      "text/plain": [
       "<matplotlib.axes._subplots.AxesSubplot at 0x1d85bc61bc8>"
      ]
     },
     "execution_count": 26,
     "metadata": {},
     "output_type": "execute_result"
    },
    {
     "data": {
      "image/png": "[encoded data removed]",
      "text/plain": [
       "<Figure size 432x288 with 1 Axes>"
      ]
     },
     "metadata": {},
     "output_type": "display_data"
    }
   ],
   "source": [
    "sns.set_style('whitegrid')\n",
    "sns.countplot(x='Infected',data=covid,palette=\"PuRd_r\")"
   ]
  },
  {
   "cell_type": "code",
   "execution_count": 27,
   "metadata": {
    "colab": {
     "base_uri": "https://localhost:8080/"
    },
    "executionInfo": {
     "elapsed": 411,
     "status": "ok",
     "timestamp": 1635418791522,
     "user": {
      "displayName": "Aditi Nasikkar",
      "photoUrl": "https://lh3.googleusercontent.com/a/default-user=s64",
      "userId": "09436550367466515003"
     },
     "user_tz": -330
    },
    "id": "o61Z98bni5wq",
    "outputId": "96a869ba-329f-48c2-c482-d79727c6fb65"
   },
   "outputs": [
    {
     "data": {
      "text/plain": [
       "1    1260\n",
       "0    1239\n",
       "Name: Infected, dtype: int64"
      ]
     },
     "execution_count": 27,
     "metadata": {},
     "output_type": "execute_result"
    }
   ],
   "source": [
    "covid['Infected'].value_counts()"
   ]
  },
  {
   "cell_type": "code",
   "execution_count": 28,
   "metadata": {
    "colab": {
     "base_uri": "https://localhost:8080/"
    },
    "executionInfo": {
     "elapsed": 521,
     "status": "ok",
     "timestamp": 1635418831004,
     "user": {
      "displayName": "Aditi Nasikkar",
      "photoUrl": "https://lh3.googleusercontent.com/a/default-user=s64",
      "userId": "09436550367466515003"
     },
     "user_tz": -330
    },
    "id": "9eqvEBLAjrI_",
    "outputId": "8dfeead1-d77d-44ab-e670-c8fdb5861c82"
   },
   "outputs": [
    {
     "data": {
      "text/plain": [
       "Country                       False\n",
       "Age                           False\n",
       "Gender                        False\n",
       "fever                         False\n",
       "Bodypain                      False\n",
       "Runny_nose                    False\n",
       "Difficulty_in_breathing       False\n",
       "Nasal_congestion              False\n",
       "Sore_throat                   False\n",
       "Severity                      False\n",
       "Contact_with_covid_patient    False\n",
       "Infected                      False\n",
       "dtype: bool"
      ]
     },
     "execution_count": 28,
     "metadata": {},
     "output_type": "execute_result"
    }
   ],
   "source": [
    "covid.isna().any()"
   ]
  },
  {
   "cell_type": "code",
   "execution_count": 29,
   "metadata": {
    "colab": {
     "base_uri": "https://localhost:8080/"
    },
    "executionInfo": {
     "elapsed": 546,
     "status": "ok",
     "timestamp": 1635418851616,
     "user": {
      "displayName": "Aditi Nasikkar",
      "photoUrl": "https://lh3.googleusercontent.com/a/default-user=s64",
      "userId": "09436550367466515003"
     },
     "user_tz": -330
    },
    "id": "ZKkBYJ5Pjx9w",
    "outputId": "57cec07e-58b6-4d12-e713-22bdd37b0032"
   },
   "outputs": [
    {
     "name": "stdout",
     "output_type": "stream",
     "text": [
      "<class 'pandas.core.frame.DataFrame'>\n",
      "RangeIndex: 2499 entries, 0 to 2498\n",
      "Data columns (total 12 columns):\n",
      " #   Column                      Non-Null Count  Dtype \n",
      "---  ------                      --------------  ----- \n",
      " 0   Country                     2499 non-null   object\n",
      " 1   Age                         2499 non-null   int64 \n",
      " 2   Gender                      2499 non-null   object\n",
      " 3   fever                       2499 non-null   int64 \n",
      " 4   Bodypain                    2499 non-null   int64 \n",
      " 5   Runny_nose                  2499 non-null   int64 \n",
      " 6   Difficulty_in_breathing     2499 non-null   int64 \n",
      " 7   Nasal_congestion            2499 non-null   int64 \n",
      " 8   Sore_throat                 2499 non-null   int64 \n",
      " 9   Severity                    2499 non-null   object\n",
      " 10  Contact_with_covid_patient  2499 non-null   object\n",
      " 11  Infected                    2499 non-null   int64 \n",
      "dtypes: int64(8), object(4)\n",
      "memory usage: 234.4+ KB\n"
     ]
    }
   ],
   "source": [
    "covid.info()"
   ]
  },
  {
   "cell_type": "code",
   "execution_count": 30,
   "metadata": {
    "colab": {
     "base_uri": "https://localhost:8080/",
     "height": 297
    },
    "executionInfo": {
     "elapsed": 427,
     "status": "ok",
     "timestamp": 1635418890615,
     "user": {
      "displayName": "Aditi Nasikkar",
      "photoUrl": "https://lh3.googleusercontent.com/a/default-user=s64",
      "userId": "09436550367466515003"
     },
     "user_tz": -330
    },
    "id": "jRz4iYi7j3KL",
    "outputId": "fe50ca52-67da-48c1-9e6f-8bcba17723cf"
   },
   "outputs": [
    {
     "data": {
      "text/html": [
       "<div>\n",
       "<style scoped>\n",
       "    .dataframe tbody tr th:only-of-type {\n",
       "        vertical-align: middle;\n",
       "    }\n",
       "\n",
       "    .dataframe tbody tr th {\n",
       "        vertical-align: top;\n",
       "    }\n",
       "\n",
       "    .dataframe thead th {\n",
       "        text-align: right;\n",
       "    }\n",
       "</style>\n",
       "<table border=\"1\" class=\"dataframe\">\n",
       "  <thead>\n",
       "    <tr style=\"text-align: right;\">\n",
       "      <th></th>\n",
       "      <th>Age</th>\n",
       "      <th>fever</th>\n",
       "      <th>Bodypain</th>\n",
       "      <th>Runny_nose</th>\n",
       "      <th>Difficulty_in_breathing</th>\n",
       "      <th>Nasal_congestion</th>\n",
       "      <th>Sore_throat</th>\n",
       "      <th>Infected</th>\n",
       "    </tr>\n",
       "  </thead>\n",
       "  <tbody>\n",
       "    <tr>\n",
       "      <th>count</th>\n",
       "      <td>2499.000000</td>\n",
       "      <td>2499.000000</td>\n",
       "      <td>2499.000000</td>\n",
       "      <td>2499.000000</td>\n",
       "      <td>2499.000000</td>\n",
       "      <td>2499.000000</td>\n",
       "      <td>2499.000000</td>\n",
       "      <td>2499.000000</td>\n",
       "    </tr>\n",
       "    <tr>\n",
       "      <th>mean</th>\n",
       "      <td>43.573429</td>\n",
       "      <td>100.585834</td>\n",
       "      <td>0.652261</td>\n",
       "      <td>0.294518</td>\n",
       "      <td>0.484194</td>\n",
       "      <td>0.470188</td>\n",
       "      <td>0.509804</td>\n",
       "      <td>0.504202</td>\n",
       "    </tr>\n",
       "    <tr>\n",
       "      <th>std</th>\n",
       "      <td>17.379751</td>\n",
       "      <td>1.711163</td>\n",
       "      <td>0.476348</td>\n",
       "      <td>0.455917</td>\n",
       "      <td>0.499850</td>\n",
       "      <td>0.499210</td>\n",
       "      <td>0.500004</td>\n",
       "      <td>0.500082</td>\n",
       "    </tr>\n",
       "    <tr>\n",
       "      <th>min</th>\n",
       "      <td>10.000000</td>\n",
       "      <td>98.000000</td>\n",
       "      <td>0.000000</td>\n",
       "      <td>0.000000</td>\n",
       "      <td>0.000000</td>\n",
       "      <td>0.000000</td>\n",
       "      <td>0.000000</td>\n",
       "      <td>0.000000</td>\n",
       "    </tr>\n",
       "    <tr>\n",
       "      <th>25%</th>\n",
       "      <td>35.000000</td>\n",
       "      <td>99.000000</td>\n",
       "      <td>0.000000</td>\n",
       "      <td>0.000000</td>\n",
       "      <td>0.000000</td>\n",
       "      <td>0.000000</td>\n",
       "      <td>0.000000</td>\n",
       "      <td>0.000000</td>\n",
       "    </tr>\n",
       "    <tr>\n",
       "      <th>50%</th>\n",
       "      <td>39.000000</td>\n",
       "      <td>100.000000</td>\n",
       "      <td>1.000000</td>\n",
       "      <td>0.000000</td>\n",
       "      <td>0.000000</td>\n",
       "      <td>0.000000</td>\n",
       "      <td>1.000000</td>\n",
       "      <td>1.000000</td>\n",
       "    </tr>\n",
       "    <tr>\n",
       "      <th>75%</th>\n",
       "      <td>55.000000</td>\n",
       "      <td>102.000000</td>\n",
       "      <td>1.000000</td>\n",
       "      <td>1.000000</td>\n",
       "      <td>1.000000</td>\n",
       "      <td>1.000000</td>\n",
       "      <td>1.000000</td>\n",
       "      <td>1.000000</td>\n",
       "    </tr>\n",
       "    <tr>\n",
       "      <th>max</th>\n",
       "      <td>89.000000</td>\n",
       "      <td>104.000000</td>\n",
       "      <td>1.000000</td>\n",
       "      <td>1.000000</td>\n",
       "      <td>1.000000</td>\n",
       "      <td>1.000000</td>\n",
       "      <td>1.000000</td>\n",
       "      <td>1.000000</td>\n",
       "    </tr>\n",
       "  </tbody>\n",
       "</table>\n",
       "</div>"
      ],
      "text/plain": [
       "               Age        fever     Bodypain   Runny_nose  \\\n",
       "count  2499.000000  2499.000000  2499.000000  2499.000000   \n",
       "mean     43.573429   100.585834     0.652261     0.294518   \n",
       "std      17.379751     1.711163     0.476348     0.455917   \n",
       "min      10.000000    98.000000     0.000000     0.000000   \n",
       "25%      35.000000    99.000000     0.000000     0.000000   \n",
       "50%      39.000000   100.000000     1.000000     0.000000   \n",
       "75%      55.000000   102.000000     1.000000     1.000000   \n",
       "max      89.000000   104.000000     1.000000     1.000000   \n",
       "\n",
       "       Difficulty_in_breathing  Nasal_congestion  Sore_throat     Infected  \n",
       "count              2499.000000       2499.000000  2499.000000  2499.000000  \n",
       "mean                  0.484194          0.470188     0.509804     0.504202  \n",
       "std                   0.499850          0.499210     0.500004     0.500082  \n",
       "min                   0.000000          0.000000     0.000000     0.000000  \n",
       "25%                   0.000000          0.000000     0.000000     0.000000  \n",
       "50%                   0.000000          0.000000     1.000000     1.000000  \n",
       "75%                   1.000000          1.000000     1.000000     1.000000  \n",
       "max                   1.000000          1.000000     1.000000     1.000000  "
      ]
     },
     "execution_count": 30,
     "metadata": {},
     "output_type": "execute_result"
    }
   ],
   "source": [
    "covid.describe()"
   ]
  },
  {
   "cell_type": "code",
   "execution_count": 31,
   "metadata": {
    "colab": {
     "base_uri": "https://localhost:8080/",
     "height": 504
    },
    "executionInfo": {
     "elapsed": 531,
     "status": "ok",
     "timestamp": 1635421497810,
     "user": {
      "displayName": "Aditi Nasikkar",
      "photoUrl": "https://lh3.googleusercontent.com/a/default-user=s64",
      "userId": "09436550367466515003"
     },
     "user_tz": -330
    },
    "id": "O90juJvatplI",
    "outputId": "c0f074f5-ff1f-45e8-e10d-651a93620d71"
   },
   "outputs": [
    {
     "name": "stderr",
     "output_type": "stream",
     "text": [
      "C:\\Users\\Admin\\anaconda3\\lib\\site-packages\\ipykernel_launcher.py:1: FutureWarning: Indexing with multiple keys (implicitly converted to a tuple of keys) will be deprecated, use a list instead.\n",
      "  \"\"\"Entry point for launching an IPython kernel.\n"
     ]
    },
    {
     "data": {
      "text/html": [
       "<div>\n",
       "<style scoped>\n",
       "    .dataframe tbody tr th:only-of-type {\n",
       "        vertical-align: middle;\n",
       "    }\n",
       "\n",
       "    .dataframe tbody tr th {\n",
       "        vertical-align: top;\n",
       "    }\n",
       "\n",
       "    .dataframe thead th {\n",
       "        text-align: right;\n",
       "    }\n",
       "</style>\n",
       "<table border=\"1\" class=\"dataframe\">\n",
       "  <thead>\n",
       "    <tr style=\"text-align: right;\">\n",
       "      <th></th>\n",
       "      <th>Infected</th>\n",
       "      <th>Nasal_congestion</th>\n",
       "      <th>Sore_throat</th>\n",
       "    </tr>\n",
       "    <tr>\n",
       "      <th>Country</th>\n",
       "      <th></th>\n",
       "      <th></th>\n",
       "      <th></th>\n",
       "    </tr>\n",
       "  </thead>\n",
       "  <tbody>\n",
       "    <tr>\n",
       "      <th>Afghanistan</th>\n",
       "      <td>9</td>\n",
       "      <td>9</td>\n",
       "      <td>9</td>\n",
       "    </tr>\n",
       "    <tr>\n",
       "      <th>Albania</th>\n",
       "      <td>9</td>\n",
       "      <td>10</td>\n",
       "      <td>7</td>\n",
       "    </tr>\n",
       "    <tr>\n",
       "      <th>Argentina</th>\n",
       "      <td>3</td>\n",
       "      <td>9</td>\n",
       "      <td>12</td>\n",
       "    </tr>\n",
       "    <tr>\n",
       "      <th>Armenia</th>\n",
       "      <td>17</td>\n",
       "      <td>10</td>\n",
       "      <td>18</td>\n",
       "    </tr>\n",
       "    <tr>\n",
       "      <th>Australia</th>\n",
       "      <td>3</td>\n",
       "      <td>3</td>\n",
       "      <td>11</td>\n",
       "    </tr>\n",
       "    <tr>\n",
       "      <th>...</th>\n",
       "      <td>...</td>\n",
       "      <td>...</td>\n",
       "      <td>...</td>\n",
       "    </tr>\n",
       "    <tr>\n",
       "      <th>Ukraine</th>\n",
       "      <td>11</td>\n",
       "      <td>7</td>\n",
       "      <td>16</td>\n",
       "    </tr>\n",
       "    <tr>\n",
       "      <th>Vietnam</th>\n",
       "      <td>32</td>\n",
       "      <td>37</td>\n",
       "      <td>38</td>\n",
       "    </tr>\n",
       "    <tr>\n",
       "      <th>Yemen</th>\n",
       "      <td>4</td>\n",
       "      <td>5</td>\n",
       "      <td>5</td>\n",
       "    </tr>\n",
       "    <tr>\n",
       "      <th>Zambia</th>\n",
       "      <td>7</td>\n",
       "      <td>8</td>\n",
       "      <td>6</td>\n",
       "    </tr>\n",
       "    <tr>\n",
       "      <th>Zimbabwe</th>\n",
       "      <td>11</td>\n",
       "      <td>8</td>\n",
       "      <td>14</td>\n",
       "    </tr>\n",
       "  </tbody>\n",
       "</table>\n",
       "<p>97 rows × 3 columns</p>\n",
       "</div>"
      ],
      "text/plain": [
       "             Infected  Nasal_congestion  Sore_throat\n",
       "Country                                             \n",
       "Afghanistan         9                 9            9\n",
       "Albania             9                10            7\n",
       "Argentina           3                 9           12\n",
       "Armenia            17                10           18\n",
       "Australia           3                 3           11\n",
       "...               ...               ...          ...\n",
       "Ukraine            11                 7           16\n",
       "Vietnam            32                37           38\n",
       "Yemen               4                 5            5\n",
       "Zambia              7                 8            6\n",
       "Zimbabwe           11                 8           14\n",
       "\n",
       "[97 rows x 3 columns]"
      ]
     },
     "execution_count": 31,
     "metadata": {},
     "output_type": "execute_result"
    }
   ],
   "source": [
    "covid.groupby('Country')['Infected','Nasal_congestion','Sore_throat'].sum()"
   ]
  },
  {
   "cell_type": "code",
   "execution_count": 32,
   "metadata": {
    "colab": {
     "base_uri": "https://localhost:8080/",
     "height": 777
    },
    "executionInfo": {
     "elapsed": 3172,
     "status": "ok",
     "timestamp": 1635418968825,
     "user": {
      "displayName": "Aditi Nasikkar",
      "photoUrl": "https://lh3.googleusercontent.com/a/default-user=s64",
      "userId": "09436550367466515003"
     },
     "user_tz": -330
    },
    "id": "iFHGbbCfkEe4",
    "outputId": "7b15e5c0-5181-4bdf-b918-ed26b4034911"
   },
   "outputs": [
    {
     "data": {
      "text/plain": [
       "array([[<matplotlib.axes._subplots.AxesSubplot object at 0x000001D85BCBA888>,\n",
       "        <matplotlib.axes._subplots.AxesSubplot object at 0x000001D85BD39D88>,\n",
       "        <matplotlib.axes._subplots.AxesSubplot object at 0x000001D85BD72C88>],\n",
       "       [<matplotlib.axes._subplots.AxesSubplot object at 0x000001D85BDA9D88>,\n",
       "        <matplotlib.axes._subplots.AxesSubplot object at 0x000001D85BDE2E88>,\n",
       "        <matplotlib.axes._subplots.AxesSubplot object at 0x000001D85BE1BF48>],\n",
       "       [<matplotlib.axes._subplots.AxesSubplot object at 0x000001D85BE5A088>,\n",
       "        <matplotlib.axes._subplots.AxesSubplot object at 0x000001D85BE90188>,\n",
       "        <matplotlib.axes._subplots.AxesSubplot object at 0x000001D85BE95D48>]],\n",
       "      dtype=object)"
      ]
     },
     "execution_count": 32,
     "metadata": {},
     "output_type": "execute_result"
    },
    {
     "data": {
      "image/png": "[encoded data removed]",
      "text/plain": [
       "<Figure size 1080x720 with 9 Axes>"
      ]
     },
     "metadata": {},
     "output_type": "display_data"
    }
   ],
   "source": [
    "covid.hist(bins= 20, figsize=(15,10))"
   ]
  },
  {
   "cell_type": "code",
   "execution_count": 33,
   "metadata": {
    "colab": {
     "base_uri": "https://localhost:8080/",
     "height": 297
    },
    "executionInfo": {
     "elapsed": 683,
     "status": "ok",
     "timestamp": 1635420293550,
     "user": {
      "displayName": "Aditi Nasikkar",
      "photoUrl": "https://lh3.googleusercontent.com/a/default-user=s64",
      "userId": "09436550367466515003"
     },
     "user_tz": -330
    },
    "id": "uXvxwoXfpSIz",
    "outputId": "f7333129-6ae5-454e-ac47-8233e334e856"
   },
   "outputs": [
    {
     "data": {
      "text/html": [
       "<div>\n",
       "<style scoped>\n",
       "    .dataframe tbody tr th:only-of-type {\n",
       "        vertical-align: middle;\n",
       "    }\n",
       "\n",
       "    .dataframe tbody tr th {\n",
       "        vertical-align: top;\n",
       "    }\n",
       "\n",
       "    .dataframe thead th {\n",
       "        text-align: right;\n",
       "    }\n",
       "</style>\n",
       "<table border=\"1\" class=\"dataframe\">\n",
       "  <thead>\n",
       "    <tr style=\"text-align: right;\">\n",
       "      <th></th>\n",
       "      <th>Age</th>\n",
       "      <th>fever</th>\n",
       "      <th>Bodypain</th>\n",
       "      <th>Runny_nose</th>\n",
       "      <th>Difficulty_in_breathing</th>\n",
       "      <th>Nasal_congestion</th>\n",
       "      <th>Sore_throat</th>\n",
       "      <th>Infected</th>\n",
       "    </tr>\n",
       "  </thead>\n",
       "  <tbody>\n",
       "    <tr>\n",
       "      <th>Age</th>\n",
       "      <td>1.000000</td>\n",
       "      <td>0.037226</td>\n",
       "      <td>0.079027</td>\n",
       "      <td>0.138832</td>\n",
       "      <td>0.165208</td>\n",
       "      <td>0.241601</td>\n",
       "      <td>0.027108</td>\n",
       "      <td>0.165147</td>\n",
       "    </tr>\n",
       "    <tr>\n",
       "      <th>fever</th>\n",
       "      <td>0.037226</td>\n",
       "      <td>1.000000</td>\n",
       "      <td>0.444512</td>\n",
       "      <td>0.226203</td>\n",
       "      <td>0.502733</td>\n",
       "      <td>0.179320</td>\n",
       "      <td>-0.181238</td>\n",
       "      <td>0.390555</td>\n",
       "    </tr>\n",
       "    <tr>\n",
       "      <th>Bodypain</th>\n",
       "      <td>0.079027</td>\n",
       "      <td>0.444512</td>\n",
       "      <td>1.000000</td>\n",
       "      <td>0.027532</td>\n",
       "      <td>0.140832</td>\n",
       "      <td>0.157560</td>\n",
       "      <td>0.179876</td>\n",
       "      <td>0.442229</td>\n",
       "    </tr>\n",
       "    <tr>\n",
       "      <th>Runny_nose</th>\n",
       "      <td>0.138832</td>\n",
       "      <td>0.226203</td>\n",
       "      <td>0.027532</td>\n",
       "      <td>1.000000</td>\n",
       "      <td>0.331361</td>\n",
       "      <td>-0.058146</td>\n",
       "      <td>-0.262037</td>\n",
       "      <td>0.284281</td>\n",
       "    </tr>\n",
       "    <tr>\n",
       "      <th>Difficulty_in_breathing</th>\n",
       "      <td>0.165208</td>\n",
       "      <td>0.502733</td>\n",
       "      <td>0.140832</td>\n",
       "      <td>0.331361</td>\n",
       "      <td>1.000000</td>\n",
       "      <td>0.020972</td>\n",
       "      <td>-0.296104</td>\n",
       "      <td>0.483518</td>\n",
       "    </tr>\n",
       "    <tr>\n",
       "      <th>Nasal_congestion</th>\n",
       "      <td>0.241601</td>\n",
       "      <td>0.179320</td>\n",
       "      <td>0.157560</td>\n",
       "      <td>-0.058146</td>\n",
       "      <td>0.020972</td>\n",
       "      <td>1.000000</td>\n",
       "      <td>0.030441</td>\n",
       "      <td>0.287938</td>\n",
       "    </tr>\n",
       "    <tr>\n",
       "      <th>Sore_throat</th>\n",
       "      <td>0.027108</td>\n",
       "      <td>-0.181238</td>\n",
       "      <td>0.179876</td>\n",
       "      <td>-0.262037</td>\n",
       "      <td>-0.296104</td>\n",
       "      <td>0.030441</td>\n",
       "      <td>1.000000</td>\n",
       "      <td>-0.218302</td>\n",
       "    </tr>\n",
       "    <tr>\n",
       "      <th>Infected</th>\n",
       "      <td>0.165147</td>\n",
       "      <td>0.390555</td>\n",
       "      <td>0.442229</td>\n",
       "      <td>0.284281</td>\n",
       "      <td>0.483518</td>\n",
       "      <td>0.287938</td>\n",
       "      <td>-0.218302</td>\n",
       "      <td>1.000000</td>\n",
       "    </tr>\n",
       "  </tbody>\n",
       "</table>\n",
       "</div>"
      ],
      "text/plain": [
       "                              Age     fever  Bodypain  Runny_nose  \\\n",
       "Age                      1.000000  0.037226  0.079027    0.138832   \n",
       "fever                    0.037226  1.000000  0.444512    0.226203   \n",
       "Bodypain                 0.079027  0.444512  1.000000    0.027532   \n",
       "Runny_nose               0.138832  0.226203  0.027532    1.000000   \n",
       "Difficulty_in_breathing  0.165208  0.502733  0.140832    0.331361   \n",
       "Nasal_congestion         0.241601  0.179320  0.157560   -0.058146   \n",
       "Sore_throat              0.027108 -0.181238  0.179876   -0.262037   \n",
       "Infected                 0.165147  0.390555  0.442229    0.284281   \n",
       "\n",
       "                         Difficulty_in_breathing  Nasal_congestion  \\\n",
       "Age                                     0.165208          0.241601   \n",
       "fever                                   0.502733          0.179320   \n",
       "Bodypain                                0.140832          0.157560   \n",
       "Runny_nose                              0.331361         -0.058146   \n",
       "Difficulty_in_breathing                 1.000000          0.020972   \n",
       "Nasal_congestion                        0.020972          1.000000   \n",
       "Sore_throat                            -0.296104          0.030441   \n",
       "Infected                                0.483518          0.287938   \n",
       "\n",
       "                         Sore_throat  Infected  \n",
       "Age                         0.027108  0.165147  \n",
       "fever                      -0.181238  0.390555  \n",
       "Bodypain                    0.179876  0.442229  \n",
       "Runny_nose                 -0.262037  0.284281  \n",
       "Difficulty_in_breathing    -0.296104  0.483518  \n",
       "Nasal_congestion            0.030441  0.287938  \n",
       "Sore_throat                 1.000000 -0.218302  \n",
       "Infected                   -0.218302  1.000000  "
      ]
     },
     "execution_count": 33,
     "metadata": {},
     "output_type": "execute_result"
    }
   ],
   "source": [
    "covid.corr()"
   ]
  },
  {
   "cell_type": "code",
   "execution_count": 34,
   "metadata": {
    "colab": {
     "base_uri": "https://localhost:8080/",
     "height": 389
    },
    "executionInfo": {
     "elapsed": 538,
     "status": "ok",
     "timestamp": 1635420361566,
     "user": {
      "displayName": "Aditi Nasikkar",
      "photoUrl": "https://lh3.googleusercontent.com/a/default-user=s64",
      "userId": "09436550367466515003"
     },
     "user_tz": -330
    },
    "id": "_wrBBfMfpjQP",
    "outputId": "0fc1ca6f-f2f4-4dd2-a956-11aacac75e38"
   },
   "outputs": [
    {
     "data": {
      "text/plain": [
       "<matplotlib.axes._subplots.AxesSubplot at 0x1d85c46b188>"
      ]
     },
     "execution_count": 34,
     "metadata": {},
     "output_type": "execute_result"
    },
    {
     "data": {
      "image/png": "[encoded data removed]",
      "text/plain": [
       "<Figure size 432x288 with 2 Axes>"
      ]
     },
     "metadata": {},
     "output_type": "display_data"
    }
   ],
   "source": [
    "sns.heatmap(covid.corr())"
   ]
  },
  {
   "cell_type": "markdown",
   "metadata": {
    "id": "Gh-5yXhAqzZJ"
   },
   "source": [
    "correlation matrix"
   ]
  },
  {
   "cell_type": "code",
   "execution_count": 35,
   "metadata": {
    "colab": {
     "base_uri": "https://localhost:8080/"
    },
    "executionInfo": {
     "elapsed": 439,
     "status": "ok",
     "timestamp": 1635420714312,
     "user": {
      "displayName": "Aditi Nasikkar",
      "photoUrl": "https://lh3.googleusercontent.com/a/default-user=s64",
      "userId": "09436550367466515003"
     },
     "user_tz": -330
    },
    "id": "r8_f3wv5TkiI",
    "outputId": "4dde19b9-897b-4710-d12b-841892ea229f"
   },
   "outputs": [
    {
     "data": {
      "text/plain": [
       "Infected                   1.000000\n",
       "Difficulty_in_breathing    0.483518\n",
       "Bodypain                   0.442229\n",
       "fever                      0.390555\n",
       "Nasal_congestion           0.287938\n",
       "Runny_nose                 0.284281\n",
       "Age                        0.165147\n",
       "Sore_throat               -0.218302\n",
       "Name: Infected, dtype: float64"
      ]
     },
     "execution_count": 35,
     "metadata": {},
     "output_type": "execute_result"
    }
   ],
   "source": [
    "corr_matrix = covid.corr()\n",
    "corr_matrix[\"Infected\"].sort_values(ascending=False)"
   ]
  },
  {
   "cell_type": "code",
   "execution_count": 36,
   "metadata": {
    "colab": {
     "base_uri": "https://localhost:8080/",
     "height": 1000
    },
    "executionInfo": {
     "elapsed": 1464,
     "status": "ok",
     "timestamp": 1635420871550,
     "user": {
      "displayName": "Aditi Nasikkar",
      "photoUrl": "https://lh3.googleusercontent.com/a/default-user=s64",
      "userId": "09436550367466515003"
     },
     "user_tz": -330
    },
    "id": "KWAVgkZPrfFT",
    "outputId": "b75aef55-241f-4923-ef1a-619c86f2a955"
   },
   "outputs": [
    {
     "data": {
      "text/plain": [
       "<matplotlib.axes._subplots.AxesSubplot at 0x1d85c53bc08>"
      ]
     },
     "execution_count": 36,
     "metadata": {},
     "output_type": "execute_result"
    },
    {
     "data": {
      "image/png": "[encoded data removed]",
      "text/plain": [
       "<Figure size 1440x1440 with 2 Axes>"
      ]
     },
     "metadata": {},
     "output_type": "display_data"
    }
   ],
   "source": [
    "plt.figure(figsize= (20, 20))\n",
    "sns.heatmap(covid.corr(), annot = True )"
   ]
  },
  {
   "cell_type": "markdown",
   "metadata": {
    "id": "kMjWv0N25Kui"
   },
   "source": [
    "**Converting object to int**"
   ]
  },
  {
   "cell_type": "code",
   "execution_count": 37,
   "metadata": {
    "executionInfo": {
     "elapsed": 483,
     "status": "ok",
     "timestamp": 1635422312078,
     "user": {
      "displayName": "Aditi Nasikkar",
      "photoUrl": "https://lh3.googleusercontent.com/a/default-user=s64",
      "userId": "09436550367466515003"
     },
     "user_tz": -330
    },
    "id": "0wY4t3TUwvNu"
   },
   "outputs": [],
   "source": [
    "Gender = pd.get_dummies(covid['Gender'],drop_first=True)\n",
    "Severity=pd.get_dummies(covid['Severity'],drop_first=True)\n",
    "Contact_with_covid_patient=pd.get_dummies(covid['Contact_with_covid_patient'],drop_first=True)"
   ]
  },
  {
   "cell_type": "code",
   "execution_count": 38,
   "metadata": {
    "colab": {
     "base_uri": "https://localhost:8080/",
     "height": 204
    },
    "executionInfo": {
     "elapsed": 613,
     "status": "ok",
     "timestamp": 1635422989667,
     "user": {
      "displayName": "Aditi Nasikkar",
      "photoUrl": "https://lh3.googleusercontent.com/a/default-user=s64",
      "userId": "09436550367466515003"
     },
     "user_tz": -330
    },
    "id": "P5Zj-oT8xBzK",
    "outputId": "7bff142c-6b18-4c6b-c2cc-f970b25d99c7"
   },
   "outputs": [
    {
     "data": {
      "text/html": [
       "<div>\n",
       "<style scoped>\n",
       "    .dataframe tbody tr th:only-of-type {\n",
       "        vertical-align: middle;\n",
       "    }\n",
       "\n",
       "    .dataframe tbody tr th {\n",
       "        vertical-align: top;\n",
       "    }\n",
       "\n",
       "    .dataframe thead th {\n",
       "        text-align: right;\n",
       "    }\n",
       "</style>\n",
       "<table border=\"1\" class=\"dataframe\">\n",
       "  <thead>\n",
       "    <tr style=\"text-align: right;\">\n",
       "      <th></th>\n",
       "      <th>Country</th>\n",
       "      <th>Age</th>\n",
       "      <th>Gender</th>\n",
       "      <th>fever</th>\n",
       "      <th>Bodypain</th>\n",
       "      <th>Runny_nose</th>\n",
       "      <th>Difficulty_in_breathing</th>\n",
       "      <th>Nasal_congestion</th>\n",
       "      <th>Sore_throat</th>\n",
       "      <th>Severity</th>\n",
       "      <th>Contact_with_covid_patient</th>\n",
       "      <th>Infected</th>\n",
       "    </tr>\n",
       "  </thead>\n",
       "  <tbody>\n",
       "    <tr>\n",
       "      <th>24</th>\n",
       "      <td>India</td>\n",
       "      <td>16</td>\n",
       "      <td>Male</td>\n",
       "      <td>98</td>\n",
       "      <td>0</td>\n",
       "      <td>0</td>\n",
       "      <td>0</td>\n",
       "      <td>0</td>\n",
       "      <td>0</td>\n",
       "      <td>Mild</td>\n",
       "      <td>No</td>\n",
       "      <td>0</td>\n",
       "    </tr>\n",
       "    <tr>\n",
       "      <th>123</th>\n",
       "      <td>India</td>\n",
       "      <td>55</td>\n",
       "      <td>Male</td>\n",
       "      <td>101</td>\n",
       "      <td>1</td>\n",
       "      <td>0</td>\n",
       "      <td>0</td>\n",
       "      <td>1</td>\n",
       "      <td>0</td>\n",
       "      <td>Severe</td>\n",
       "      <td>Not known</td>\n",
       "      <td>1</td>\n",
       "    </tr>\n",
       "    <tr>\n",
       "      <th>223</th>\n",
       "      <td>India</td>\n",
       "      <td>16</td>\n",
       "      <td>Male</td>\n",
       "      <td>98</td>\n",
       "      <td>0</td>\n",
       "      <td>0</td>\n",
       "      <td>0</td>\n",
       "      <td>0</td>\n",
       "      <td>0</td>\n",
       "      <td>Mild</td>\n",
       "      <td>No</td>\n",
       "      <td>0</td>\n",
       "    </tr>\n",
       "    <tr>\n",
       "      <th>346</th>\n",
       "      <td>India</td>\n",
       "      <td>35</td>\n",
       "      <td>Female</td>\n",
       "      <td>101</td>\n",
       "      <td>1</td>\n",
       "      <td>0</td>\n",
       "      <td>0</td>\n",
       "      <td>1</td>\n",
       "      <td>1</td>\n",
       "      <td>Mild</td>\n",
       "      <td>Not known</td>\n",
       "      <td>1</td>\n",
       "    </tr>\n",
       "    <tr>\n",
       "      <th>510</th>\n",
       "      <td>India</td>\n",
       "      <td>24</td>\n",
       "      <td>Female</td>\n",
       "      <td>98</td>\n",
       "      <td>0</td>\n",
       "      <td>0</td>\n",
       "      <td>0</td>\n",
       "      <td>0</td>\n",
       "      <td>1</td>\n",
       "      <td>Mild</td>\n",
       "      <td>No</td>\n",
       "      <td>0</td>\n",
       "    </tr>\n",
       "  </tbody>\n",
       "</table>\n",
       "</div>"
      ],
      "text/plain": [
       "    Country  Age  Gender  fever  Bodypain  Runny_nose  \\\n",
       "24    India   16    Male     98         0           0   \n",
       "123   India   55    Male    101         1           0   \n",
       "223   India   16    Male     98         0           0   \n",
       "346   India   35  Female    101         1           0   \n",
       "510   India   24  Female     98         0           0   \n",
       "\n",
       "     Difficulty_in_breathing  Nasal_congestion  Sore_throat Severity  \\\n",
       "24                         0                 0            0     Mild   \n",
       "123                        0                 1            0   Severe   \n",
       "223                        0                 0            0     Mild   \n",
       "346                        0                 1            1     Mild   \n",
       "510                        0                 0            1     Mild   \n",
       "\n",
       "    Contact_with_covid_patient  Infected  \n",
       "24                          No         0  \n",
       "123                  Not known         1  \n",
       "223                         No         0  \n",
       "346                  Not known         1  \n",
       "510                         No         0  "
      ]
     },
     "execution_count": 38,
     "metadata": {},
     "output_type": "execute_result"
    }
   ],
   "source": [
    "cases=covid[covid[\"Country\"]==\"India\"]\n",
    "cases.head()"
   ]
  },
  {
   "cell_type": "code",
   "execution_count": 39,
   "metadata": {
    "colab": {
     "base_uri": "https://localhost:8080/",
     "height": 297
    },
    "executionInfo": {
     "elapsed": 426,
     "status": "ok",
     "timestamp": 1635422996789,
     "user": {
      "displayName": "Aditi Nasikkar",
      "photoUrl": "https://lh3.googleusercontent.com/a/default-user=s64",
      "userId": "09436550367466515003"
     },
     "user_tz": -330
    },
    "id": "PeL2HFuHyzdw",
    "outputId": "991dde68-d84f-475f-b472-a1638129cc81"
   },
   "outputs": [
    {
     "data": {
      "text/html": [
       "<div>\n",
       "<style scoped>\n",
       "    .dataframe tbody tr th:only-of-type {\n",
       "        vertical-align: middle;\n",
       "    }\n",
       "\n",
       "    .dataframe tbody tr th {\n",
       "        vertical-align: top;\n",
       "    }\n",
       "\n",
       "    .dataframe thead th {\n",
       "        text-align: right;\n",
       "    }\n",
       "</style>\n",
       "<table border=\"1\" class=\"dataframe\">\n",
       "  <thead>\n",
       "    <tr style=\"text-align: right;\">\n",
       "      <th></th>\n",
       "      <th>Age</th>\n",
       "      <th>fever</th>\n",
       "      <th>Bodypain</th>\n",
       "      <th>Runny_nose</th>\n",
       "      <th>Difficulty_in_breathing</th>\n",
       "      <th>Nasal_congestion</th>\n",
       "      <th>Sore_throat</th>\n",
       "      <th>Infected</th>\n",
       "    </tr>\n",
       "  </thead>\n",
       "  <tbody>\n",
       "    <tr>\n",
       "      <th>count</th>\n",
       "      <td>20.000000</td>\n",
       "      <td>20.000000</td>\n",
       "      <td>20.000000</td>\n",
       "      <td>20.0</td>\n",
       "      <td>20.000000</td>\n",
       "      <td>20.000000</td>\n",
       "      <td>20.00000</td>\n",
       "      <td>20.000000</td>\n",
       "    </tr>\n",
       "    <tr>\n",
       "      <th>mean</th>\n",
       "      <td>34.900000</td>\n",
       "      <td>99.650000</td>\n",
       "      <td>0.450000</td>\n",
       "      <td>0.0</td>\n",
       "      <td>0.100000</td>\n",
       "      <td>0.500000</td>\n",
       "      <td>0.35000</td>\n",
       "      <td>0.450000</td>\n",
       "    </tr>\n",
       "    <tr>\n",
       "      <th>std</th>\n",
       "      <td>18.859313</td>\n",
       "      <td>1.663066</td>\n",
       "      <td>0.510418</td>\n",
       "      <td>0.0</td>\n",
       "      <td>0.307794</td>\n",
       "      <td>0.512989</td>\n",
       "      <td>0.48936</td>\n",
       "      <td>0.510418</td>\n",
       "    </tr>\n",
       "    <tr>\n",
       "      <th>min</th>\n",
       "      <td>16.000000</td>\n",
       "      <td>98.000000</td>\n",
       "      <td>0.000000</td>\n",
       "      <td>0.0</td>\n",
       "      <td>0.000000</td>\n",
       "      <td>0.000000</td>\n",
       "      <td>0.00000</td>\n",
       "      <td>0.000000</td>\n",
       "    </tr>\n",
       "    <tr>\n",
       "      <th>25%</th>\n",
       "      <td>16.000000</td>\n",
       "      <td>98.000000</td>\n",
       "      <td>0.000000</td>\n",
       "      <td>0.0</td>\n",
       "      <td>0.000000</td>\n",
       "      <td>0.000000</td>\n",
       "      <td>0.00000</td>\n",
       "      <td>0.000000</td>\n",
       "    </tr>\n",
       "    <tr>\n",
       "      <th>50%</th>\n",
       "      <td>29.500000</td>\n",
       "      <td>99.500000</td>\n",
       "      <td>0.000000</td>\n",
       "      <td>0.0</td>\n",
       "      <td>0.000000</td>\n",
       "      <td>0.500000</td>\n",
       "      <td>0.00000</td>\n",
       "      <td>0.000000</td>\n",
       "    </tr>\n",
       "    <tr>\n",
       "      <th>75%</th>\n",
       "      <td>55.000000</td>\n",
       "      <td>101.000000</td>\n",
       "      <td>1.000000</td>\n",
       "      <td>0.0</td>\n",
       "      <td>0.000000</td>\n",
       "      <td>1.000000</td>\n",
       "      <td>1.00000</td>\n",
       "      <td>1.000000</td>\n",
       "    </tr>\n",
       "    <tr>\n",
       "      <th>max</th>\n",
       "      <td>65.000000</td>\n",
       "      <td>102.000000</td>\n",
       "      <td>1.000000</td>\n",
       "      <td>0.0</td>\n",
       "      <td>1.000000</td>\n",
       "      <td>1.000000</td>\n",
       "      <td>1.00000</td>\n",
       "      <td>1.000000</td>\n",
       "    </tr>\n",
       "  </tbody>\n",
       "</table>\n",
       "</div>"
      ],
      "text/plain": [
       "             Age       fever   Bodypain  Runny_nose  Difficulty_in_breathing  \\\n",
       "count  20.000000   20.000000  20.000000        20.0                20.000000   \n",
       "mean   34.900000   99.650000   0.450000         0.0                 0.100000   \n",
       "std    18.859313    1.663066   0.510418         0.0                 0.307794   \n",
       "min    16.000000   98.000000   0.000000         0.0                 0.000000   \n",
       "25%    16.000000   98.000000   0.000000         0.0                 0.000000   \n",
       "50%    29.500000   99.500000   0.000000         0.0                 0.000000   \n",
       "75%    55.000000  101.000000   1.000000         0.0                 0.000000   \n",
       "max    65.000000  102.000000   1.000000         0.0                 1.000000   \n",
       "\n",
       "       Nasal_congestion  Sore_throat   Infected  \n",
       "count         20.000000     20.00000  20.000000  \n",
       "mean           0.500000      0.35000   0.450000  \n",
       "std            0.512989      0.48936   0.510418  \n",
       "min            0.000000      0.00000   0.000000  \n",
       "25%            0.000000      0.00000   0.000000  \n",
       "50%            0.500000      0.00000   0.000000  \n",
       "75%            1.000000      1.00000   1.000000  \n",
       "max            1.000000      1.00000   1.000000  "
      ]
     },
     "execution_count": 39,
     "metadata": {},
     "output_type": "execute_result"
    }
   ],
   "source": [
    "cases.describe()"
   ]
  },
  {
   "cell_type": "code",
   "execution_count": 40,
   "metadata": {
    "colab": {
     "base_uri": "https://localhost:8080/"
    },
    "executionInfo": {
     "elapsed": 429,
     "status": "ok",
     "timestamp": 1635423000719,
     "user": {
      "displayName": "Aditi Nasikkar",
      "photoUrl": "https://lh3.googleusercontent.com/a/default-user=s64",
      "userId": "09436550367466515003"
     },
     "user_tz": -330
    },
    "id": "LZRfvSVazCjn",
    "outputId": "46eaac59-da57-453e-afc5-6de1b8e0d24d"
   },
   "outputs": [
    {
     "data": {
      "text/plain": [
       "(20, 12)"
      ]
     },
     "execution_count": 40,
     "metadata": {},
     "output_type": "execute_result"
    }
   ],
   "source": [
    "cases.shape"
   ]
  },
  {
   "cell_type": "code",
   "execution_count": 41,
   "metadata": {
    "executionInfo": {
     "elapsed": 406,
     "status": "ok",
     "timestamp": 1635423046894,
     "user": {
      "displayName": "Aditi Nasikkar",
      "photoUrl": "https://lh3.googleusercontent.com/a/default-user=s64",
      "userId": "09436550367466515003"
     },
     "user_tz": -330
    },
    "id": "ZkjyukuxzG8r"
   },
   "outputs": [],
   "source": [
    "X=cases['Age']\n",
    "y=cases['Infected']"
   ]
  },
  {
   "cell_type": "code",
   "execution_count": 42,
   "metadata": {
    "executionInfo": {
     "elapsed": 391,
     "status": "ok",
     "timestamp": 1635423054770,
     "user": {
      "displayName": "Aditi Nasikkar",
      "photoUrl": "https://lh3.googleusercontent.com/a/default-user=s64",
      "userId": "09436550367466515003"
     },
     "user_tz": -330
    },
    "id": "6hDIP1i0zsED"
   },
   "outputs": [],
   "source": [
    "from sklearn.model_selection import train_test_split\n",
    "X_train,X_test,y_train, y_test=train_test_split(X,y, test_size=0.3,random_state=30)"
   ]
  },
  {
   "cell_type": "code",
   "execution_count": 43,
   "metadata": {
    "colab": {
     "base_uri": "https://localhost:8080/"
    },
    "executionInfo": {
     "elapsed": 521,
     "status": "ok",
     "timestamp": 1635423064001,
     "user": {
      "displayName": "Aditi Nasikkar",
      "photoUrl": "https://lh3.googleusercontent.com/a/default-user=s64",
      "userId": "09436550367466515003"
     },
     "user_tz": -330
    },
    "id": "QZAsQQmlz3T1",
    "outputId": "f5b36323-fa3a-402a-d02d-b0ad6d826722"
   },
   "outputs": [
    {
     "data": {
      "text/plain": [
       "(14,)"
      ]
     },
     "execution_count": 43,
     "metadata": {},
     "output_type": "execute_result"
    }
   ],
   "source": [
    "X_train.shape"
   ]
  },
  {
   "cell_type": "code",
   "execution_count": 44,
   "metadata": {
    "colab": {
     "base_uri": "https://localhost:8080/"
    },
    "executionInfo": {
     "elapsed": 412,
     "status": "ok",
     "timestamp": 1635423071479,
     "user": {
      "displayName": "Aditi Nasikkar",
      "photoUrl": "https://lh3.googleusercontent.com/a/default-user=s64",
      "userId": "09436550367466515003"
     },
     "user_tz": -330
    },
    "id": "EiPz_OSqz6F2",
    "outputId": "8c3bda2f-f29b-42fe-e4de-a24f027c83e3"
   },
   "outputs": [
    {
     "data": {
      "text/plain": [
       "(14,)"
      ]
     },
     "execution_count": 44,
     "metadata": {},
     "output_type": "execute_result"
    }
   ],
   "source": [
    "y_train.shape"
   ]
  },
  {
   "cell_type": "code",
   "execution_count": 45,
   "metadata": {
    "colab": {
     "base_uri": "https://localhost:8080/"
    },
    "executionInfo": {
     "elapsed": 568,
     "status": "ok",
     "timestamp": 1635423080752,
     "user": {
      "displayName": "Aditi Nasikkar",
      "photoUrl": "https://lh3.googleusercontent.com/a/default-user=s64",
      "userId": "09436550367466515003"
     },
     "user_tz": -330
    },
    "id": "PkfRpYBPz8Ls",
    "outputId": "2d2e5e44-86b3-47ac-bc53-59132a8c6c07"
   },
   "outputs": [
    {
     "data": {
      "text/plain": [
       "(6,)"
      ]
     },
     "execution_count": 45,
     "metadata": {},
     "output_type": "execute_result"
    }
   ],
   "source": [
    "X_test.shape"
   ]
  },
  {
   "cell_type": "code",
   "execution_count": 46,
   "metadata": {
    "colab": {
     "base_uri": "https://localhost:8080/"
    },
    "executionInfo": {
     "elapsed": 449,
     "status": "ok",
     "timestamp": 1635423096975,
     "user": {
      "displayName": "Aditi Nasikkar",
      "photoUrl": "https://lh3.googleusercontent.com/a/default-user=s64",
      "userId": "09436550367466515003"
     },
     "user_tz": -330
    },
    "id": "iywPoQPkz-xb",
    "outputId": "be6e4807-8d59-40bd-b816-83b36b2b4c1c"
   },
   "outputs": [
    {
     "data": {
      "text/plain": [
       "(6,)"
      ]
     },
     "execution_count": 46,
     "metadata": {},
     "output_type": "execute_result"
    }
   ],
   "source": [
    "y_test.shape"
   ]
  },
  {
   "cell_type": "markdown",
   "metadata": {
    "id": "0EQhYWdu4gcU"
   },
   "source": [
    "# **Building Model** \n",
    "# *Random Forest*\n",
    "### **TRAIN**"
   ]
  },
  {
   "cell_type": "code",
   "execution_count": 47,
   "metadata": {
    "executionInfo": {
     "elapsed": 510,
     "status": "ok",
     "timestamp": 1635423293269,
     "user": {
      "displayName": "Aditi Nasikkar",
      "photoUrl": "https://lh3.googleusercontent.com/a/default-user=s64",
      "userId": "09436550367466515003"
     },
     "user_tz": -330
    },
    "id": "E1YHrSGAz-7E"
   },
   "outputs": [],
   "source": [
    "from sklearn.ensemble import RandomForestClassifier\n",
    "from sklearn.metrics import accuracy_score"
   ]
  },
  {
   "cell_type": "code",
   "execution_count": 48,
   "metadata": {
    "colab": {
     "base_uri": "https://localhost:8080/"
    },
    "executionInfo": {
     "elapsed": 517,
     "status": "ok",
     "timestamp": 1635423496431,
     "user": {
      "displayName": "Aditi Nasikkar",
      "photoUrl": "https://lh3.googleusercontent.com/a/default-user=s64",
      "userId": "09436550367466515003"
     },
     "user_tz": -330
    },
    "id": "IrfESkxJ07Ip",
    "outputId": "ba7c1818-c668-4fd7-8e17-a0c870ad4937"
   },
   "outputs": [
    {
     "name": "stderr",
     "output_type": "stream",
     "text": [
      "C:\\Users\\Admin\\anaconda3\\lib\\site-packages\\ipykernel_launcher.py:2: DataConversionWarning: A column-vector y was passed when a 1d array was expected. Please change the shape of y to (n_samples,), for example using ravel().\n",
      "  \n"
     ]
    },
    {
     "data": {
      "text/plain": [
       "RandomForestClassifier(bootstrap=True, ccp_alpha=0.0, class_weight=None,\n",
       "                       criterion='gini', max_depth=None, max_features='auto',\n",
       "                       max_leaf_nodes=None, max_samples=None,\n",
       "                       min_impurity_decrease=0.0, min_impurity_split=None,\n",
       "                       min_samples_leaf=1, min_samples_split=2,\n",
       "                       min_weight_fraction_leaf=0.0, n_estimators=100,\n",
       "                       n_jobs=None, oob_score=False, random_state=None,\n",
       "                       verbose=0, warm_start=False)"
      ]
     },
     "execution_count": 48,
     "metadata": {},
     "output_type": "execute_result"
    }
   ],
   "source": [
    "rnd_clf=RandomForestClassifier()\n",
    "rnd_clf.fit(np.array(X_train).reshape(-1,1),np.array(y_train).reshape(-1,1))"
   ]
  },
  {
   "cell_type": "code",
   "execution_count": 49,
   "metadata": {
    "executionInfo": {
     "elapsed": 657,
     "status": "ok",
     "timestamp": 1635423995831,
     "user": {
      "displayName": "Aditi Nasikkar",
      "photoUrl": "https://lh3.googleusercontent.com/a/default-user=s64",
      "userId": "09436550367466515003"
     },
     "user_tz": -330
    },
    "id": "eXcy4LV41W-U"
   },
   "outputs": [],
   "source": [
    "rnd_clf.score(np.array(X_train).reshape(-1,1),np.array(y_train).reshape(-1,1))\n",
    "y_rnd_pred= rnd_clf.predict(np.array(X_test).reshape(-1,1))\n"
   ]
  },
  {
   "cell_type": "code",
   "execution_count": 50,
   "metadata": {
    "executionInfo": {
     "elapsed": 422,
     "status": "ok",
     "timestamp": 1635424025530,
     "user": {
      "displayName": "Aditi Nasikkar",
      "photoUrl": "https://lh3.googleusercontent.com/a/default-user=s64",
      "userId": "09436550367466515003"
     },
     "user_tz": -330
    },
    "id": "IAvfgwVL3dxE"
   },
   "outputs": [],
   "source": [
    "y_rnd_pred= rnd_clf.predict(np.array(X_train).reshape(-1,1))"
   ]
  },
  {
   "cell_type": "code",
   "execution_count": 51,
   "metadata": {
    "colab": {
     "base_uri": "https://localhost:8080/"
    },
    "executionInfo": {
     "elapsed": 682,
     "status": "ok",
     "timestamp": 1635424040236,
     "user": {
      "displayName": "Aditi Nasikkar",
      "photoUrl": "https://lh3.googleusercontent.com/a/default-user=s64",
      "userId": "09436550367466515003"
     },
     "user_tz": -330
    },
    "id": "szkHAXe_3mgF",
    "outputId": "0328144d-bc1f-4624-9c1b-3d647875a521"
   },
   "outputs": [
    {
     "name": "stdout",
     "output_type": "stream",
     "text": [
      "Accuracy after CV : 1.0\n",
      "Pricision after CV: 1.0\n",
      "Recall after CV   : 1.0\n",
      "f1_score after CV : 1.0\n"
     ]
    }
   ],
   "source": [
    "from sklearn.metrics import precision_score, recall_score\n",
    "from sklearn.metrics import accuracy_score, f1_score\n",
    "\n",
    "print(\"Accuracy after CV :\", accuracy_score(y_train, y_rnd_pred))\n",
    "print(\"Pricision after CV:\", precision_score(y_train, y_rnd_pred))\n",
    "print(\"Recall after CV   :\", recall_score(y_train, y_rnd_pred))\n",
    "print(\"f1_score after CV :\", f1_score(y_train, y_rnd_pred))"
   ]
  },
  {
   "cell_type": "markdown",
   "metadata": {
    "id": "xqFUshcl4Som"
   },
   "source": [
    "### **TEST**"
   ]
  },
  {
   "cell_type": "code",
   "execution_count": 52,
   "metadata": {
    "executionInfo": {
     "elapsed": 522,
     "status": "ok",
     "timestamp": 1635424187029,
     "user": {
      "displayName": "Aditi Nasikkar",
      "photoUrl": "https://lh3.googleusercontent.com/a/default-user=s64",
      "userId": "09436550367466515003"
     },
     "user_tz": -330
    },
    "id": "kxfztUz24Chx"
   },
   "outputs": [],
   "source": [
    "y_test_rnd_pred= rnd_clf.predict(np.array(X_test).reshape(-1,1))"
   ]
  },
  {
   "cell_type": "code",
   "execution_count": 53,
   "metadata": {
    "colab": {
     "base_uri": "https://localhost:8080/"
    },
    "executionInfo": {
     "elapsed": 507,
     "status": "ok",
     "timestamp": 1635424189680,
     "user": {
      "displayName": "Aditi Nasikkar",
      "photoUrl": "https://lh3.googleusercontent.com/a/default-user=s64",
      "userId": "09436550367466515003"
     },
     "user_tz": -330
    },
    "id": "4JS1zqvq3z90",
    "outputId": "f21d0266-89f5-4a87-a65b-7c44f25a5887"
   },
   "outputs": [
    {
     "name": "stdout",
     "output_type": "stream",
     "text": [
      "Accuracy after CV : 0.8333333333333334\n",
      "Pricision after CV: 0.6666666666666666\n",
      "Recall after CV   : 1.0\n",
      "f1_score after CV : 0.8\n"
     ]
    }
   ],
   "source": [
    "print(\"Accuracy after CV :\", accuracy_score(y_test, y_test_rnd_pred))\n",
    "print(\"Pricision after CV:\", precision_score(y_test, y_test_rnd_pred))\n",
    "print(\"Recall after CV   :\", recall_score(y_test, y_test_rnd_pred))\n",
    "print(\"f1_score after CV :\", f1_score(y_test, y_test_rnd_pred))"
   ]
  },
  {
   "cell_type": "markdown",
   "metadata": {
    "id": "kgsI5DiJ5VU7"
   },
   "source": [
    "# KNN"
   ]
  },
  {
   "cell_type": "markdown",
   "metadata": {},
   "source": [
    "### **TRAIN**"
   ]
  },
  {
   "cell_type": "code",
   "execution_count": 54,
   "metadata": {
    "executionInfo": {
     "elapsed": 424,
     "status": "ok",
     "timestamp": 1635424658456,
     "user": {
      "displayName": "Aditi Nasikkar",
      "photoUrl": "https://lh3.googleusercontent.com/a/default-user=s64",
      "userId": "09436550367466515003"
     },
     "user_tz": -330
    },
    "id": "jsR07Mk55WJT"
   },
   "outputs": [],
   "source": [
    "from sklearn.neighbors import KNeighborsClassifier"
   ]
  },
  {
   "cell_type": "code",
   "execution_count": 55,
   "metadata": {
    "executionInfo": {
     "elapsed": 427,
     "status": "ok",
     "timestamp": 1635424770115,
     "user": {
      "displayName": "Aditi Nasikkar",
      "photoUrl": "https://lh3.googleusercontent.com/a/default-user=s64",
      "userId": "09436550367466515003"
     },
     "user_tz": -330
    },
    "id": "CS441n4o6Yio"
   },
   "outputs": [],
   "source": [
    "knn_clf=KNeighborsClassifier(n_neighbors=3)"
   ]
  },
  {
   "cell_type": "code",
   "execution_count": 56,
   "metadata": {
    "colab": {
     "base_uri": "https://localhost:8080/"
    },
    "executionInfo": {
     "elapsed": 519,
     "status": "ok",
     "timestamp": 1635424859368,
     "user": {
      "displayName": "Aditi Nasikkar",
      "photoUrl": "https://lh3.googleusercontent.com/a/default-user=s64",
      "userId": "09436550367466515003"
     },
     "user_tz": -330
    },
    "id": "zlQZT7r_6Upx",
    "outputId": "ab4b0600-059b-48ac-9bc4-bb4923589b34"
   },
   "outputs": [
    {
     "name": "stderr",
     "output_type": "stream",
     "text": [
      "C:\\Users\\Admin\\anaconda3\\lib\\site-packages\\ipykernel_launcher.py:1: DataConversionWarning: A column-vector y was passed when a 1d array was expected. Please change the shape of y to (n_samples, ), for example using ravel().\n",
      "  \"\"\"Entry point for launching an IPython kernel.\n"
     ]
    },
    {
     "data": {
      "text/plain": [
       "KNeighborsClassifier(algorithm='auto', leaf_size=30, metric='minkowski',\n",
       "                     metric_params=None, n_jobs=None, n_neighbors=3, p=2,\n",
       "                     weights='uniform')"
      ]
     },
     "execution_count": 56,
     "metadata": {},
     "output_type": "execute_result"
    }
   ],
   "source": [
    "knn_clf.fit(np.array(X_train).reshape(-1,1),np.array(y_train).reshape(-1,1))"
   ]
  },
  {
   "cell_type": "code",
   "execution_count": 57,
   "metadata": {
    "executionInfo": {
     "elapsed": 378,
     "status": "ok",
     "timestamp": 1635424868446,
     "user": {
      "displayName": "Aditi Nasikkar",
      "photoUrl": "https://lh3.googleusercontent.com/a/default-user=s64",
      "userId": "09436550367466515003"
     },
     "user_tz": -330
    },
    "id": "EiSX3J0t5-l4"
   },
   "outputs": [],
   "source": [
    "y_knn_pred= knn_clf.predict(np.array(X_train).reshape(-1,1))"
   ]
  },
  {
   "cell_type": "code",
   "execution_count": 58,
   "metadata": {
    "colab": {
     "base_uri": "https://localhost:8080/"
    },
    "executionInfo": {
     "elapsed": 410,
     "status": "ok",
     "timestamp": 1635424923570,
     "user": {
      "displayName": "Aditi Nasikkar",
      "photoUrl": "https://lh3.googleusercontent.com/a/default-user=s64",
      "userId": "09436550367466515003"
     },
     "user_tz": -330
    },
    "id": "L4BzXzTnTkiV",
    "outputId": "83544bf3-2304-4440-9445-53ba67949b06"
   },
   "outputs": [
    {
     "name": "stdout",
     "output_type": "stream",
     "text": [
      "Accuracy after CV : 0.8571428571428571\n",
      "Pricision after CV: 0.8571428571428571\n",
      "Recall after CV   : 0.8571428571428571\n",
      "f1_score after CV : 0.8571428571428571\n"
     ]
    }
   ],
   "source": [
    "from sklearn.metrics import precision_score, recall_score\n",
    "from sklearn.metrics import accuracy_score, f1_score\n",
    "\n",
    "print(\"Accuracy after CV :\", accuracy_score(y_train, y_knn_pred))\n",
    "print(\"Pricision after CV:\", precision_score(y_train, y_knn_pred))\n",
    "print(\"Recall after CV   :\", recall_score(y_train, y_knn_pred))\n",
    "print(\"f1_score after CV :\", f1_score(y_train, y_knn_pred))"
   ]
  },
  {
   "cell_type": "markdown",
   "metadata": {
    "id": "BG8MuWXY7Cmg"
   },
   "source": [
    "\n",
    "### **TEST**"
   ]
  },
  {
   "cell_type": "code",
   "execution_count": 59,
   "metadata": {
    "executionInfo": {
     "elapsed": 419,
     "status": "ok",
     "timestamp": 1635425009079,
     "user": {
      "displayName": "Aditi Nasikkar",
      "photoUrl": "https://lh3.googleusercontent.com/a/default-user=s64",
      "userId": "09436550367466515003"
     },
     "user_tz": -330
    },
    "id": "dAhiu-UH7PM7"
   },
   "outputs": [],
   "source": [
    "y_test_knn_pred= knn_clf.predict(np.array(X_test).reshape(-1,1)) "
   ]
  },
  {
   "cell_type": "code",
   "execution_count": 60,
   "metadata": {
    "colab": {
     "base_uri": "https://localhost:8080/"
    },
    "executionInfo": {
     "elapsed": 415,
     "status": "ok",
     "timestamp": 1635425018704,
     "user": {
      "displayName": "Aditi Nasikkar",
      "photoUrl": "https://lh3.googleusercontent.com/a/default-user=s64",
      "userId": "09436550367466515003"
     },
     "user_tz": -330
    },
    "id": "rxHcWSlp7Vgl",
    "outputId": "4ada11b3-cfe5-4ebb-daab-ed8ba12cdf13"
   },
   "outputs": [
    {
     "name": "stdout",
     "output_type": "stream",
     "text": [
      "Accuracy after CV : 0.8333333333333334\n",
      "Pricision after CV: 0.6666666666666666\n",
      "Recall after CV   : 1.0\n",
      "f1_score after CV : 0.8\n"
     ]
    }
   ],
   "source": [
    "print(\"Accuracy after CV :\", accuracy_score(y_test, y_test_knn_pred))\n",
    "print(\"Pricision after CV:\", precision_score(y_test, y_test_knn_pred))\n",
    "print(\"Recall after CV   :\", recall_score(y_test, y_test_knn_pred))\n",
    "print(\"f1_score after CV :\", f1_score(y_test, y_test_knn_pred))"
   ]
  },
  {
   "cell_type": "code",
   "execution_count": 61,
   "metadata": {},
   "outputs": [],
   "source": [
    "from sklearn.tree import DecisionTreeClassifier\n",
    "from sklearn.tree import tree\n",
    "from sklearn.model_selection import train_test_split\n",
    "from sklearn import metrics"
   ]
  },
  {
   "cell_type": "markdown",
   "metadata": {},
   "source": [
    "# DECISION TREE\n",
    "### **TRAIN**"
   ]
  },
  {
   "cell_type": "code",
   "execution_count": 62,
   "metadata": {},
   "outputs": [
    {
     "data": {
      "text/plain": [
       "DecisionTreeClassifier(ccp_alpha=0.0, class_weight=None, criterion='gini',\n",
       "                       max_depth=None, max_features=None, max_leaf_nodes=None,\n",
       "                       min_impurity_decrease=0.0, min_impurity_split=None,\n",
       "                       min_samples_leaf=1, min_samples_split=2,\n",
       "                       min_weight_fraction_leaf=0.0, presort='deprecated',\n",
       "                       random_state=None, splitter='best')"
      ]
     },
     "execution_count": 62,
     "metadata": {},
     "output_type": "execute_result"
    }
   ],
   "source": [
    "dt_clf=tree.DecisionTreeClassifier()\n",
    "dt_clf.fit(np.array(X_train).reshape(-1,1),np.array(y_train).reshape(-1,1))"
   ]
  },
  {
   "cell_type": "code",
   "execution_count": 65,
   "metadata": {},
   "outputs": [],
   "source": [
    "dt_clf.score(np.array(X_train).reshape(-1,1),np.array(y_train).reshape(-1,1))\n",
    "y_dt_pred= dt_clf.predict(np.array(X_test).reshape(-1,1))\n"
   ]
  },
  {
   "cell_type": "code",
   "execution_count": 66,
   "metadata": {},
   "outputs": [],
   "source": [
    "y_dt_pred= dt_clf.predict(np.array(X_train).reshape(-1,1))"
   ]
  },
  {
   "cell_type": "code",
   "execution_count": 68,
   "metadata": {},
   "outputs": [],
   "source": [
    "from sklearn.metrics import precision_score,recall_score\n",
    "from sklearn.metrics import accuracy_score,f1_score"
   ]
  },
  {
   "cell_type": "code",
   "execution_count": 69,
   "metadata": {},
   "outputs": [
    {
     "name": "stdout",
     "output_type": "stream",
     "text": [
      "Accuracy after CV : 1.0\n",
      "Pricision after CV: 1.0\n",
      "Recall after CV   : 1.0\n",
      "f1_score after CV : 1.0\n"
     ]
    }
   ],
   "source": [
    "\n",
    "print(\"Accuracy after CV :\", accuracy_score(y_train, y_dt_pred))\n",
    "print(\"Pricision after CV:\", precision_score(y_train, y_dt_pred))\n",
    "print(\"Recall after CV   :\", recall_score(y_train, y_dt_pred))\n",
    "print(\"f1_score after CV :\", f1_score(y_train, y_dt_pred))"
   ]
  },
  {
   "cell_type": "markdown",
   "metadata": {},
   "source": [
    "### **TEST**"
   ]
  },
  {
   "cell_type": "code",
   "execution_count": 70,
   "metadata": {},
   "outputs": [],
   "source": [
    "y_test_dt_pred= dt_clf.predict(np.array(X_test).reshape(-1,1)) "
   ]
  },
  {
   "cell_type": "code",
   "execution_count": 71,
   "metadata": {},
   "outputs": [
    {
     "name": "stdout",
     "output_type": "stream",
     "text": [
      "Accuracy after CV : 0.8333333333333334\n",
      "Pricision after CV: 0.6666666666666666\n",
      "Recall after CV   : 1.0\n",
      "f1_score after CV : 0.8\n"
     ]
    }
   ],
   "source": [
    "print(\"Accuracy after CV :\", accuracy_score(y_test, y_test_dt_pred))\n",
    "print(\"Pricision after CV:\", precision_score(y_test, y_test_dt_pred))\n",
    "print(\"Recall after CV   :\", recall_score(y_test, y_test_dt_pred))\n",
    "print(\"f1_score after CV :\", f1_score(y_test, y_test_dt_pred))"
   ]
  }
 ],
 "metadata": {
  "colab": {
   "authorship_tag": "ABX9TyO2BlcH3vfk3syKTzyWmzb/",
   "collapsed_sections": [],
   "name": "covid analysis.ipynb",
   "provenance": []
  },
  "kernelspec": {
   "display_name": "Python 3",
   "language": "python",
   "name": "python3"
  },
  "language_info": {
   "codemirror_mode": {
    "name": "ipython",
    "version": 3
   },
   "file_extension": ".py",
   "mimetype": "text/x-python",
   "name": "python",
   "nbconvert_exporter": "python",
   "pygments_lexer": "ipython3",
   "version": "3.7.6"
  }
 },
 "nbformat": 4,
 "nbformat_minor": 1
}
